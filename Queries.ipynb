{
 "cells": [
  {
   "attachments": {},
   "cell_type": "markdown",
   "metadata": {},
   "source": [
    "# __Queries__"
   ]
  },
  {
   "attachments": {},
   "cell_type": "markdown",
   "metadata": {},
   "source": [
    "__1)__ function"
   ]
  },
  {
   "cell_type": "code",
   "execution_count": 11,
   "metadata": {},
   "outputs": [],
   "source": [
    "import pandas as pd\n"
   ]
  },
  {
   "cell_type": "code",
   "execution_count": 2,
   "metadata": {},
   "outputs": [],
   "source": [
    "DF_PM = pd.read_csv(\"Datasets/DF_MoviesAndSeries.csv\")"
   ]
  },
  {
   "cell_type": "code",
   "execution_count": 12,
   "metadata": {},
   "outputs": [
    {
     "data": {
      "text/html": [
       "<div>\n",
       "<style scoped>\n",
       "    .dataframe tbody tr th:only-of-type {\n",
       "        vertical-align: middle;\n",
       "    }\n",
       "\n",
       "    .dataframe tbody tr th {\n",
       "        vertical-align: top;\n",
       "    }\n",
       "\n",
       "    .dataframe thead th {\n",
       "        text-align: right;\n",
       "    }\n",
       "</style>\n",
       "<table border=\"1\" class=\"dataframe\">\n",
       "  <thead>\n",
       "    <tr style=\"text-align: right;\">\n",
       "      <th></th>\n",
       "      <th>id</th>\n",
       "      <th>show_id</th>\n",
       "      <th>type</th>\n",
       "      <th>title</th>\n",
       "      <th>director</th>\n",
       "      <th>cast</th>\n",
       "      <th>country</th>\n",
       "      <th>date_added</th>\n",
       "      <th>release_year</th>\n",
       "      <th>rating</th>\n",
       "      <th>listed_in</th>\n",
       "      <th>description</th>\n",
       "      <th>platform</th>\n",
       "      <th>duration_int</th>\n",
       "      <th>duration_type</th>\n",
       "    </tr>\n",
       "  </thead>\n",
       "  <tbody>\n",
       "    <tr>\n",
       "      <th>17960</th>\n",
       "      <td>ns8293</td>\n",
       "      <td>s8293</td>\n",
       "      <td>movie</td>\n",
       "      <td>masquerade</td>\n",
       "      <td>jeremiah mclamb</td>\n",
       "      <td>colleen mcginniss, rosa morales, ken stewart</td>\n",
       "      <td>NaN</td>\n",
       "      <td>NaN</td>\n",
       "      <td>2009</td>\n",
       "      <td>16+</td>\n",
       "      <td>drama, special interest</td>\n",
       "      <td>things are never what they appear on the surfa...</td>\n",
       "      <td>netflix</td>\n",
       "      <td>97.0</td>\n",
       "      <td>['min']</td>\n",
       "    </tr>\n",
       "    <tr>\n",
       "      <th>12578</th>\n",
       "      <td>ns2911</td>\n",
       "      <td>s2911</td>\n",
       "      <td>tv show</td>\n",
       "      <td>card sharks with jim perry</td>\n",
       "      <td>NaN</td>\n",
       "      <td>jim perry</td>\n",
       "      <td>NaN</td>\n",
       "      <td>NaN</td>\n",
       "      <td>1978</td>\n",
       "      <td>tv-g</td>\n",
       "      <td>unscripted</td>\n",
       "      <td>contestants compete to complete a block of fiv...</td>\n",
       "      <td>netflix</td>\n",
       "      <td>1.0</td>\n",
       "      <td>['Season']</td>\n",
       "    </tr>\n",
       "  </tbody>\n",
       "</table>\n",
       "</div>"
      ],
      "text/plain": [
       "           id show_id     type                       title         director  \\\n",
       "17960  ns8293   s8293    movie                  masquerade  jeremiah mclamb   \n",
       "12578  ns2911   s2911  tv show  card sharks with jim perry              NaN   \n",
       "\n",
       "                                               cast country date_added  \\\n",
       "17960  colleen mcginniss, rosa morales, ken stewart     NaN        NaN   \n",
       "12578                                     jim perry     NaN        NaN   \n",
       "\n",
       "       release_year rating                listed_in  \\\n",
       "17960          2009    16+  drama, special interest   \n",
       "12578          1978   tv-g               unscripted   \n",
       "\n",
       "                                             description platform  \\\n",
       "17960  things are never what they appear on the surfa...  netflix   \n",
       "12578  contestants compete to complete a block of fiv...  netflix   \n",
       "\n",
       "       duration_int duration_type  \n",
       "17960          97.0       ['min']  \n",
       "12578           1.0    ['Season']  "
      ]
     },
     "execution_count": 12,
     "metadata": {},
     "output_type": "execute_result"
    }
   ],
   "source": [
    "DF_PM.sample(2)"
   ]
  },
  {
   "cell_type": "code",
   "execution_count": null,
   "metadata": {},
   "outputs": [],
   "source": []
  }
 ],
 "metadata": {
  "kernelspec": {
   "display_name": "Python 3",
   "language": "python",
   "name": "python3"
  },
  "language_info": {
   "codemirror_mode": {
    "name": "ipython",
    "version": 3
   },
   "file_extension": ".py",
   "mimetype": "text/x-python",
   "name": "python",
   "nbconvert_exporter": "python",
   "pygments_lexer": "ipython3",
   "version": "3.10.8"
  },
  "orig_nbformat": 4
 },
 "nbformat": 4,
 "nbformat_minor": 2
}
