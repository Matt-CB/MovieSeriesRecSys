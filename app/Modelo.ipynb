{
 "cells": [
  {
   "cell_type": "code",
   "execution_count": 146,
   "metadata": {},
   "outputs": [],
   "source": [
    "#Comiezo importando librerias \n",
    "import matplotlib.pyplot as plt\n",
    "import pandas as pd\n",
    "from surprise.model_selection import train_test_split\n",
    "from surprise import Dataset, Reader, SVD\n",
    "%matplotlib inline"
   ]
  },
  {
   "cell_type": "code",
   "execution_count": 147,
   "metadata": {},
   "outputs": [],
   "source": [
    "#Datasets\n",
    "df_p = pd.read_csv('platform.csv')\n",
    "df_r = pd.read_csv('rating_movies.csv')"
   ]
  },
  {
   "cell_type": "code",
   "execution_count": 148,
   "metadata": {},
   "outputs": [
    {
     "data": {
      "text/html": [
       "<div>\n",
       "<style scoped>\n",
       "    .dataframe tbody tr th:only-of-type {\n",
       "        vertical-align: middle;\n",
       "    }\n",
       "\n",
       "    .dataframe tbody tr th {\n",
       "        vertical-align: top;\n",
       "    }\n",
       "\n",
       "    .dataframe thead th {\n",
       "        text-align: right;\n",
       "    }\n",
       "</style>\n",
       "<table border=\"1\" class=\"dataframe\">\n",
       "  <thead>\n",
       "    <tr style=\"text-align: right;\">\n",
       "      <th></th>\n",
       "      <th>title</th>\n",
       "      <th>gender</th>\n",
       "      <th>movieId</th>\n",
       "      <th>platform</th>\n",
       "    </tr>\n",
       "  </thead>\n",
       "  <tbody>\n",
       "    <tr>\n",
       "      <th>19301</th>\n",
       "      <td>the adventures of sharkboy and lavagirl</td>\n",
       "      <td>children &amp; family movies</td>\n",
       "      <td>ns8184</td>\n",
       "      <td>netflix</td>\n",
       "    </tr>\n",
       "    <tr>\n",
       "      <th>8749</th>\n",
       "      <td>bell bottom</td>\n",
       "      <td>action</td>\n",
       "      <td>as8750</td>\n",
       "      <td>amazon</td>\n",
       "    </tr>\n",
       "    <tr>\n",
       "      <th>11114</th>\n",
       "      <td>night at the museum: battle of the smithsonian</td>\n",
       "      <td>action-adventure, comedy, family</td>\n",
       "      <td>ds1447</td>\n",
       "      <td>disney</td>\n",
       "    </tr>\n",
       "    <tr>\n",
       "      <th>20507</th>\n",
       "      <td>capital one: college bowl</td>\n",
       "      <td>game shows, reality, sports</td>\n",
       "      <td>hs583</td>\n",
       "      <td>hulu</td>\n",
       "    </tr>\n",
       "    <tr>\n",
       "      <th>12598</th>\n",
       "      <td>still game</td>\n",
       "      <td>british tv shows, classic &amp; cult tv, internati...</td>\n",
       "      <td>ns1481</td>\n",
       "      <td>netflix</td>\n",
       "    </tr>\n",
       "  </tbody>\n",
       "</table>\n",
       "</div>"
      ],
      "text/plain": [
       "                                                title  \\\n",
       "19301         the adventures of sharkboy and lavagirl   \n",
       "8749                                      bell bottom   \n",
       "11114  night at the museum: battle of the smithsonian   \n",
       "20507                       capital one: college bowl   \n",
       "12598                                      still game   \n",
       "\n",
       "                                                  gender movieId platform  \n",
       "19301                           children & family movies  ns8184  netflix  \n",
       "8749                                              action  as8750   amazon  \n",
       "11114                   action-adventure, comedy, family  ds1447   disney  \n",
       "20507                        game shows, reality, sports   hs583     hulu  \n",
       "12598  british tv shows, classic & cult tv, internati...  ns1481  netflix  "
      ]
     },
     "execution_count": 148,
     "metadata": {},
     "output_type": "execute_result"
    }
   ],
   "source": [
    "df_p.sample(5)"
   ]
  },
  {
   "cell_type": "code",
   "execution_count": 149,
   "metadata": {},
   "outputs": [
    {
     "data": {
      "text/html": [
       "<div>\n",
       "<style scoped>\n",
       "    .dataframe tbody tr th:only-of-type {\n",
       "        vertical-align: middle;\n",
       "    }\n",
       "\n",
       "    .dataframe tbody tr th {\n",
       "        vertical-align: top;\n",
       "    }\n",
       "\n",
       "    .dataframe thead th {\n",
       "        text-align: right;\n",
       "    }\n",
       "</style>\n",
       "<table border=\"1\" class=\"dataframe\">\n",
       "  <thead>\n",
       "    <tr style=\"text-align: right;\">\n",
       "      <th></th>\n",
       "      <th>userId</th>\n",
       "      <th>score</th>\n",
       "      <th>timestamp</th>\n",
       "      <th>movieId</th>\n",
       "    </tr>\n",
       "  </thead>\n",
       "  <tbody>\n",
       "    <tr>\n",
       "      <th>10629515</th>\n",
       "      <td>120490</td>\n",
       "      <td>4.0</td>\n",
       "      <td>2000-03-03</td>\n",
       "      <td>as953</td>\n",
       "    </tr>\n",
       "    <tr>\n",
       "      <th>3452270</th>\n",
       "      <td>35953</td>\n",
       "      <td>4.0</td>\n",
       "      <td>2017-07-05</td>\n",
       "      <td>ds257</td>\n",
       "    </tr>\n",
       "    <tr>\n",
       "      <th>809131</th>\n",
       "      <td>8290</td>\n",
       "      <td>4.0</td>\n",
       "      <td>2008-01-12</td>\n",
       "      <td>as4787</td>\n",
       "    </tr>\n",
       "    <tr>\n",
       "      <th>9636219</th>\n",
       "      <td>109607</td>\n",
       "      <td>2.0</td>\n",
       "      <td>2003-03-05</td>\n",
       "      <td>ns1570</td>\n",
       "    </tr>\n",
       "    <tr>\n",
       "      <th>6096526</th>\n",
       "      <td>62866</td>\n",
       "      <td>5.0</td>\n",
       "      <td>2017-07-14</td>\n",
       "      <td>as5889</td>\n",
       "    </tr>\n",
       "  </tbody>\n",
       "</table>\n",
       "</div>"
      ],
      "text/plain": [
       "          userId  score   timestamp movieId\n",
       "10629515  120490    4.0  2000-03-03   as953\n",
       "3452270    35953    4.0  2017-07-05   ds257\n",
       "809131      8290    4.0  2008-01-12  as4787\n",
       "9636219   109607    2.0  2003-03-05  ns1570\n",
       "6096526    62866    5.0  2017-07-14  as5889"
      ]
     },
     "execution_count": 149,
     "metadata": {},
     "output_type": "execute_result"
    }
   ],
   "source": [
    "df_r.sample(5)"
   ]
  },
  {
   "cell_type": "code",
   "execution_count": 150,
   "metadata": {},
   "outputs": [],
   "source": [
    "df_p = df_p[['movieId', 'title']]"
   ]
  },
  {
   "cell_type": "code",
   "execution_count": 151,
   "metadata": {},
   "outputs": [],
   "source": [
    "df_p = df_p.reset_index(drop=True)"
   ]
  },
  {
   "cell_type": "code",
   "execution_count": 152,
   "metadata": {},
   "outputs": [],
   "source": [
    "N_filas = 100000 # We put a limit on the dataset\n",
    "\n",
    "reader = Reader(rating_scale=(1, 5))\n",
    "\n",
    "data = Dataset.load_from_df(df_r[['userId', 'movieId', 'score']][:N_filas], reader)\n",
    "\n",
    "\n",
    "\n",
    "# Separating the data\n",
    "\n",
    "trainset, testset = train_test_split(data, test_size=.25)"
   ]
  },
  {
   "cell_type": "code",
   "execution_count": 153,
   "metadata": {},
   "outputs": [
    {
     "data": {
      "text/plain": [
       "<surprise.prediction_algorithms.matrix_factorization.SVD at 0x2bbbb795570>"
      ]
     },
     "execution_count": 153,
     "metadata": {},
     "output_type": "execute_result"
    }
   ],
   "source": [
    "# Training the model SVD\n",
    "\n",
    "model = SVD()\n",
    "model.fit(trainset)"
   ]
  },
  {
   "cell_type": "code",
   "execution_count": 154,
   "metadata": {},
   "outputs": [],
   "source": [
    "# Prediction\n",
    "\n",
    "predictions = model.test(testset)"
   ]
  },
  {
   "cell_type": "code",
   "execution_count": 155,
   "metadata": {},
   "outputs": [
    {
     "data": {
      "text/plain": [
       "Prediction(uid=242, iid='hs2276', r_ui=4.5, est=3.840253143785164, details={'was_impossible': False})"
      ]
     },
     "execution_count": 155,
     "metadata": {},
     "output_type": "execute_result"
    }
   ],
   "source": [
    "predictions[1]"
   ]
  },
  {
   "cell_type": "code",
   "execution_count": 156,
   "metadata": {},
   "outputs": [
    {
     "data": {
      "text/plain": [
       "Prediction(uid=35487, iid='ns8098', r_ui=None, est=3.595936544659656, details={'was_impossible': False})"
      ]
     },
     "execution_count": 156,
     "metadata": {},
     "output_type": "execute_result"
    }
   ],
   "source": [
    "# Making a random prediction for user and movie\n",
    "\n",
    "model.predict(35487,'ns8098')"
   ]
  },
  {
   "cell_type": "code",
   "execution_count": 157,
   "metadata": {},
   "outputs": [
    {
     "data": {
      "text/html": [
       "<div>\n",
       "<style scoped>\n",
       "    .dataframe tbody tr th:only-of-type {\n",
       "        vertical-align: middle;\n",
       "    }\n",
       "\n",
       "    .dataframe tbody tr th {\n",
       "        vertical-align: top;\n",
       "    }\n",
       "\n",
       "    .dataframe thead th {\n",
       "        text-align: right;\n",
       "    }\n",
       "</style>\n",
       "<table border=\"1\" class=\"dataframe\">\n",
       "  <thead>\n",
       "    <tr style=\"text-align: right;\">\n",
       "      <th></th>\n",
       "      <th>userId</th>\n",
       "      <th>score</th>\n",
       "      <th>timestamp</th>\n",
       "      <th>movieId</th>\n",
       "      <th>title</th>\n",
       "    </tr>\n",
       "  </thead>\n",
       "  <tbody>\n",
       "    <tr>\n",
       "      <th>0</th>\n",
       "      <td>35487</td>\n",
       "      <td>4.0</td>\n",
       "      <td>1996-04-07</td>\n",
       "      <td>ns7682</td>\n",
       "      <td>otherlife</td>\n",
       "    </tr>\n",
       "    <tr>\n",
       "      <th>1</th>\n",
       "      <td>35487</td>\n",
       "      <td>4.0</td>\n",
       "      <td>1996-04-07</td>\n",
       "      <td>ns3147</td>\n",
       "      <td>scooby-doo!: mystery incorporated</td>\n",
       "    </tr>\n",
       "    <tr>\n",
       "      <th>2</th>\n",
       "      <td>35487</td>\n",
       "      <td>5.0</td>\n",
       "      <td>1996-04-07</td>\n",
       "      <td>ds1017</td>\n",
       "      <td>life is ruff</td>\n",
       "    </tr>\n",
       "    <tr>\n",
       "      <th>3</th>\n",
       "      <td>35487</td>\n",
       "      <td>5.0</td>\n",
       "      <td>1996-04-07</td>\n",
       "      <td>ns900</td>\n",
       "      <td>illegal woman</td>\n",
       "    </tr>\n",
       "    <tr>\n",
       "      <th>4</th>\n",
       "      <td>35487</td>\n",
       "      <td>4.0</td>\n",
       "      <td>1996-04-07</td>\n",
       "      <td>as7715</td>\n",
       "      <td>raymond &amp; miguel</td>\n",
       "    </tr>\n",
       "    <tr>\n",
       "      <th>5</th>\n",
       "      <td>35487</td>\n",
       "      <td>5.0</td>\n",
       "      <td>1996-04-07</td>\n",
       "      <td>ns2340</td>\n",
       "      <td>prem ratan dhan payo</td>\n",
       "    </tr>\n",
       "    <tr>\n",
       "      <th>6</th>\n",
       "      <td>35487</td>\n",
       "      <td>4.0</td>\n",
       "      <td>1996-04-07</td>\n",
       "      <td>as5262</td>\n",
       "      <td>nishabdham</td>\n",
       "    </tr>\n",
       "    <tr>\n",
       "      <th>7</th>\n",
       "      <td>35487</td>\n",
       "      <td>5.0</td>\n",
       "      <td>1996-04-07</td>\n",
       "      <td>ns2851</td>\n",
       "      <td>the last bomb of the second world war</td>\n",
       "    </tr>\n",
       "    <tr>\n",
       "      <th>8</th>\n",
       "      <td>35487</td>\n",
       "      <td>5.0</td>\n",
       "      <td>1996-04-07</td>\n",
       "      <td>ns1169</td>\n",
       "      <td>dota: dragon's blood</td>\n",
       "    </tr>\n",
       "    <tr>\n",
       "      <th>9</th>\n",
       "      <td>35487</td>\n",
       "      <td>4.0</td>\n",
       "      <td>1996-04-07</td>\n",
       "      <td>as8428</td>\n",
       "      <td>rifftrax: contamination</td>\n",
       "    </tr>\n",
       "    <tr>\n",
       "      <th>10</th>\n",
       "      <td>35487</td>\n",
       "      <td>5.0</td>\n",
       "      <td>1996-04-07</td>\n",
       "      <td>hs1710</td>\n",
       "      <td>harry benson: shoot first</td>\n",
       "    </tr>\n",
       "    <tr>\n",
       "      <th>11</th>\n",
       "      <td>35487</td>\n",
       "      <td>5.0</td>\n",
       "      <td>1996-04-07</td>\n",
       "      <td>as5305</td>\n",
       "      <td>baahubali the lost legends</td>\n",
       "    </tr>\n",
       "    <tr>\n",
       "      <th>12</th>\n",
       "      <td>35487</td>\n",
       "      <td>4.0</td>\n",
       "      <td>1996-04-07</td>\n",
       "      <td>ns7435</td>\n",
       "      <td>meet the trumps: from immigrant to president</td>\n",
       "    </tr>\n",
       "    <tr>\n",
       "      <th>13</th>\n",
       "      <td>35487</td>\n",
       "      <td>5.0</td>\n",
       "      <td>1996-04-07</td>\n",
       "      <td>hs1060</td>\n",
       "      <td>wwe nxt</td>\n",
       "    </tr>\n",
       "    <tr>\n",
       "      <th>14</th>\n",
       "      <td>35487</td>\n",
       "      <td>4.0</td>\n",
       "      <td>1996-04-07</td>\n",
       "      <td>as2659</td>\n",
       "      <td>dino dana</td>\n",
       "    </tr>\n",
       "    <tr>\n",
       "      <th>15</th>\n",
       "      <td>35487</td>\n",
       "      <td>5.0</td>\n",
       "      <td>1996-04-07</td>\n",
       "      <td>ns8081</td>\n",
       "      <td>standoff</td>\n",
       "    </tr>\n",
       "    <tr>\n",
       "      <th>16</th>\n",
       "      <td>35487</td>\n",
       "      <td>5.0</td>\n",
       "      <td>1996-04-07</td>\n",
       "      <td>ns1616</td>\n",
       "      <td>ink master</td>\n",
       "    </tr>\n",
       "    <tr>\n",
       "      <th>17</th>\n",
       "      <td>35487</td>\n",
       "      <td>5.0</td>\n",
       "      <td>1996-04-07</td>\n",
       "      <td>ns142</td>\n",
       "      <td>extraction</td>\n",
       "    </tr>\n",
       "    <tr>\n",
       "      <th>18</th>\n",
       "      <td>35487</td>\n",
       "      <td>5.0</td>\n",
       "      <td>1996-04-07</td>\n",
       "      <td>as1039</td>\n",
       "      <td>shane mauss: mating season</td>\n",
       "    </tr>\n",
       "  </tbody>\n",
       "</table>\n",
       "</div>"
      ],
      "text/plain": [
       "    userId  score   timestamp movieId  \\\n",
       "0    35487    4.0  1996-04-07  ns7682   \n",
       "1    35487    4.0  1996-04-07  ns3147   \n",
       "2    35487    5.0  1996-04-07  ds1017   \n",
       "3    35487    5.0  1996-04-07   ns900   \n",
       "4    35487    4.0  1996-04-07  as7715   \n",
       "5    35487    5.0  1996-04-07  ns2340   \n",
       "6    35487    4.0  1996-04-07  as5262   \n",
       "7    35487    5.0  1996-04-07  ns2851   \n",
       "8    35487    5.0  1996-04-07  ns1169   \n",
       "9    35487    4.0  1996-04-07  as8428   \n",
       "10   35487    5.0  1996-04-07  hs1710   \n",
       "11   35487    5.0  1996-04-07  as5305   \n",
       "12   35487    4.0  1996-04-07  ns7435   \n",
       "13   35487    5.0  1996-04-07  hs1060   \n",
       "14   35487    4.0  1996-04-07  as2659   \n",
       "15   35487    5.0  1996-04-07  ns8081   \n",
       "16   35487    5.0  1996-04-07  ns1616   \n",
       "17   35487    5.0  1996-04-07   ns142   \n",
       "18   35487    5.0  1996-04-07  as1039   \n",
       "\n",
       "                                           title  \n",
       "0                                      otherlife  \n",
       "1              scooby-doo!: mystery incorporated  \n",
       "2                                   life is ruff  \n",
       "3                                  illegal woman  \n",
       "4                               raymond & miguel  \n",
       "5                           prem ratan dhan payo  \n",
       "6                                     nishabdham  \n",
       "7          the last bomb of the second world war  \n",
       "8                           dota: dragon's blood  \n",
       "9                        rifftrax: contamination  \n",
       "10                     harry benson: shoot first  \n",
       "11                    baahubali the lost legends  \n",
       "12  meet the trumps: from immigrant to president  \n",
       "13                                       wwe nxt  \n",
       "14                                     dino dana  \n",
       "15                                      standoff  \n",
       "16                                    ink master  \n",
       "17                                    extraction  \n",
       "18                    shane mauss: mating season  "
      ]
     },
     "execution_count": 157,
     "metadata": {},
     "output_type": "execute_result"
    }
   ],
   "source": [
    "'''\n",
    ".A random user is chosen and I make a recommendation\n",
    ".We take films that have been highly rated\n",
    "'''\n",
    "\n",
    "usuario = 35487; rating = 4   \n",
    "df_user = df_r[(df_r.userId == usuario) & (df_r.score >= rating)]\n",
    "df_user = df_user.reset_index(drop=True)\n",
    "\n",
    "df_user = pd.merge(df_user, df_p[['movieId', 'title']], on='movieId', how='left')\n",
    "df_user"
   ]
  },
  {
   "cell_type": "code",
   "execution_count": 158,
   "metadata": {},
   "outputs": [
    {
     "name": "stdout",
     "output_type": "stream",
     "text": [
      "(4499, 2)\n"
     ]
    },
    {
     "data": {
      "text/html": [
       "<div>\n",
       "<style scoped>\n",
       "    .dataframe tbody tr th:only-of-type {\n",
       "        vertical-align: middle;\n",
       "    }\n",
       "\n",
       "    .dataframe tbody tr th {\n",
       "        vertical-align: top;\n",
       "    }\n",
       "\n",
       "    .dataframe thead th {\n",
       "        text-align: right;\n",
       "    }\n",
       "</style>\n",
       "<table border=\"1\" class=\"dataframe\">\n",
       "  <thead>\n",
       "    <tr style=\"text-align: right;\">\n",
       "      <th></th>\n",
       "      <th>movieId</th>\n",
       "      <th>title</th>\n",
       "    </tr>\n",
       "  </thead>\n",
       "  <tbody>\n",
       "    <tr>\n",
       "      <th>0</th>\n",
       "      <td>as1</td>\n",
       "      <td>the grand seduction</td>\n",
       "    </tr>\n",
       "    <tr>\n",
       "      <th>1</th>\n",
       "      <td>as2</td>\n",
       "      <td>take care good night</td>\n",
       "    </tr>\n",
       "    <tr>\n",
       "      <th>2</th>\n",
       "      <td>as3</td>\n",
       "      <td>secrets of deception</td>\n",
       "    </tr>\n",
       "    <tr>\n",
       "      <th>3</th>\n",
       "      <td>as4</td>\n",
       "      <td>pink: staying true</td>\n",
       "    </tr>\n",
       "    <tr>\n",
       "      <th>4</th>\n",
       "      <td>as5</td>\n",
       "      <td>monster maker</td>\n",
       "    </tr>\n",
       "  </tbody>\n",
       "</table>\n",
       "</div>"
      ],
      "text/plain": [
       "  movieId                 title\n",
       "0     as1   the grand seduction\n",
       "1     as2  take care good night\n",
       "2     as3  secrets of deception\n",
       "3     as4    pink: staying true\n",
       "4     as5         monster maker"
      ]
     },
     "execution_count": 158,
     "metadata": {},
     "output_type": "execute_result"
    }
   ],
   "source": [
    "u_recommendations = df_p.iloc[:4499].copy()\n",
    "print(u_recommendations.shape)\n",
    "u_recommendations.head()"
   ]
  },
  {
   "cell_type": "code",
   "execution_count": 159,
   "metadata": {},
   "outputs": [
    {
     "name": "stdout",
     "output_type": "stream",
     "text": [
      "(26, 4)\n"
     ]
    },
    {
     "data": {
      "text/html": [
       "<div>\n",
       "<style scoped>\n",
       "    .dataframe tbody tr th:only-of-type {\n",
       "        vertical-align: middle;\n",
       "    }\n",
       "\n",
       "    .dataframe tbody tr th {\n",
       "        vertical-align: top;\n",
       "    }\n",
       "\n",
       "    .dataframe thead th {\n",
       "        text-align: right;\n",
       "    }\n",
       "</style>\n",
       "<table border=\"1\" class=\"dataframe\">\n",
       "  <thead>\n",
       "    <tr style=\"text-align: right;\">\n",
       "      <th></th>\n",
       "      <th>userId</th>\n",
       "      <th>score</th>\n",
       "      <th>timestamp</th>\n",
       "      <th>movieId</th>\n",
       "    </tr>\n",
       "  </thead>\n",
       "  <tbody>\n",
       "    <tr>\n",
       "      <th>3408964</th>\n",
       "      <td>35487</td>\n",
       "      <td>3.0</td>\n",
       "      <td>1996-04-07</td>\n",
       "      <td>ns8098</td>\n",
       "    </tr>\n",
       "    <tr>\n",
       "      <th>3408965</th>\n",
       "      <td>35487</td>\n",
       "      <td>4.0</td>\n",
       "      <td>1996-04-07</td>\n",
       "      <td>ns7682</td>\n",
       "    </tr>\n",
       "    <tr>\n",
       "      <th>3408966</th>\n",
       "      <td>35487</td>\n",
       "      <td>4.0</td>\n",
       "      <td>1996-04-07</td>\n",
       "      <td>ns3147</td>\n",
       "    </tr>\n",
       "    <tr>\n",
       "      <th>3408967</th>\n",
       "      <td>35487</td>\n",
       "      <td>5.0</td>\n",
       "      <td>1996-04-07</td>\n",
       "      <td>ds1017</td>\n",
       "    </tr>\n",
       "    <tr>\n",
       "      <th>3408968</th>\n",
       "      <td>35487</td>\n",
       "      <td>5.0</td>\n",
       "      <td>1996-04-07</td>\n",
       "      <td>ns900</td>\n",
       "    </tr>\n",
       "  </tbody>\n",
       "</table>\n",
       "</div>"
      ],
      "text/plain": [
       "         userId  score   timestamp movieId\n",
       "3408964   35487    3.0  1996-04-07  ns8098\n",
       "3408965   35487    4.0  1996-04-07  ns7682\n",
       "3408966   35487    4.0  1996-04-07  ns3147\n",
       "3408967   35487    5.0  1996-04-07  ds1017\n",
       "3408968   35487    5.0  1996-04-07   ns900"
      ]
     },
     "execution_count": 159,
     "metadata": {},
     "output_type": "execute_result"
    }
   ],
   "source": [
    "#Movies that have already been seen are extracted\n",
    "\n",
    "usuario_vistas = df_r[df_r['userId'] == usuario]\n",
    "print(usuario_vistas.shape)\n",
    "\n",
    "usuario_vistas.head()"
   ]
  },
  {
   "cell_type": "code",
   "execution_count": 160,
   "metadata": {},
   "outputs": [
    {
     "data": {
      "text/plain": [
       "(4497, 2)"
      ]
     },
     "execution_count": 160,
     "metadata": {},
     "output_type": "execute_result"
    }
   ],
   "source": [
    "# Removing the movies has already seen for the user\n",
    "\n",
    "u_recommendations = u_recommendations[~u_recommendations['movieId'].isin(usuario_vistas['movieId'])]\n",
    "\n",
    "u_recommendations.shape"
   ]
  },
  {
   "cell_type": "code",
   "execution_count": 161,
   "metadata": {},
   "outputs": [],
   "source": [
    "# Recommendation -->\n",
    "\n",
    "u_recommendations['Estimate_Score'] = u_recommendations['movieId'].apply(lambda x: model.predict(usuario, x).est)"
   ]
  },
  {
   "cell_type": "code",
   "execution_count": 162,
   "metadata": {},
   "outputs": [
    {
     "name": "stdout",
     "output_type": "stream",
     "text": [
      "     movieId                                      title  Estimate_Score\n",
      "118    as119             where is chicky? - chapter two        4.003503\n",
      "1853  as1854                         lincoln@gettysburg        3.932304\n",
      "1069  as1070            secret life of the hospital bed        3.901062\n",
      "2467  as2468  fireman sam: the great fire of pontypandy        3.900741\n",
      "4156  as4157                                      darra        3.899823\n",
      "3794  as3795                             painted horses        3.888790\n",
      "2573  as2574                           eic vs the world        3.875554\n",
      "1601  as1602       morphle and mila dinosaur adventures        3.874287\n",
      "2679  as2680                 detectives: my killer case        3.866570\n",
      "2736  as2737                                     dakota        3.865806\n"
     ]
    }
   ],
   "source": [
    "u_recommendations = u_recommendations.sort_values('Estimate_Score', ascending=False)\n",
    "print(u_recommendations.head(10))"
   ]
  },
  {
   "attachments": {},
   "cell_type": "markdown",
   "metadata": {},
   "source": [
    "__Prediccion con un usuario o pelicula__"
   ]
  },
  {
   "cell_type": "code",
   "execution_count": 163,
   "metadata": {},
   "outputs": [],
   "source": [
    "def movie_recommendation(userId, movieId):\n",
    "    # We obtain the prediction of the rating that the user would give to the movie\n",
    "    prediction = model.predict(userId, str(movieId))\n",
    "\n",
    "    # If the prediction is greater than or equal to 3.5, the movie is recommended\n",
    "    if prediction.est >= 3.5:\n",
    "        return \"Recommended\", prediction.est\n",
    "    else:\n",
    "        return \"Not recommended\", prediction.est"
   ]
  },
  {
   "cell_type": "code",
   "execution_count": 164,
   "metadata": {},
   "outputs": [
    {
     "data": {
      "text/plain": [
       "('Not recommended', 3.2694139554041595)"
      ]
     },
     "execution_count": 164,
     "metadata": {},
     "output_type": "execute_result"
    }
   ],
   "source": [
    "#Function testing\n",
    "movie_recommendation(59, 'ns65')"
   ]
  },
  {
   "attachments": {},
   "cell_type": "markdown",
   "metadata": {},
   "source": [
    " __Model evaluation__"
   ]
  },
  {
   "cell_type": "code",
   "execution_count": 165,
   "metadata": {},
   "outputs": [
    {
     "name": "stdout",
     "output_type": "stream",
     "text": [
      "RMSE: 0.9609\n"
     ]
    },
    {
     "data": {
      "text/plain": [
       "0.9608552151975971"
      ]
     },
     "execution_count": 165,
     "metadata": {},
     "output_type": "execute_result"
    }
   ],
   "source": [
    "\n",
    "from surprise import accuracy\n",
    "\n",
    "accuracy.rmse(predictions)"
   ]
  },
  {
   "cell_type": "code",
   "execution_count": 166,
   "metadata": {},
   "outputs": [
    {
     "name": "stdout",
     "output_type": "stream",
     "text": [
      "1\n",
      "Evaluating RMSE of algorithm SVD on 3 split(s).\n",
      "\n",
      "                  Fold 1  Fold 2  Fold 3  Mean    Std     \n",
      "RMSE (testset)    0.9474  0.9494  0.9531  0.9499  0.0024  \n",
      "Fit time          0.48    0.44    0.47    0.46    0.02    \n",
      "Test time         0.48    0.19    0.23    0.30    0.13    \n",
      "2\n",
      "Evaluating RMSE of algorithm SVD on 3 split(s).\n",
      "\n",
      "                  Fold 1  Fold 2  Fold 3  Mean    Std     \n",
      "RMSE (testset)    0.9475  0.9473  0.9537  0.9495  0.0030  \n",
      "Fit time          0.42    0.51    0.48    0.47    0.04    \n",
      "Test time         0.20    0.44    0.21    0.28    0.11    \n",
      "4\n",
      "Evaluating RMSE of algorithm SVD on 3 split(s).\n",
      "\n",
      "                  Fold 1  Fold 2  Fold 3  Mean    Std     \n",
      "RMSE (testset)    0.9447  0.9434  0.9587  0.9490  0.0069  \n",
      "Fit time          0.44    0.49    0.48    0.47    0.02    \n",
      "Test time         0.20    0.21    0.43    0.28    0.10    \n",
      "8\n",
      "Evaluating RMSE of algorithm SVD on 3 split(s).\n",
      "\n",
      "                  Fold 1  Fold 2  Fold 3  Mean    Std     \n",
      "RMSE (testset)    0.9510  0.9545  0.9444  0.9500  0.0042  \n",
      "Fit time          0.48    0.59    0.51    0.53    0.05    \n",
      "Test time         0.20    0.36    0.20    0.25    0.08    \n",
      "16\n",
      "Evaluating RMSE of algorithm SVD on 3 split(s).\n",
      "\n",
      "                  Fold 1  Fold 2  Fold 3  Mean    Std     \n",
      "RMSE (testset)    0.9546  0.9577  0.9432  0.9519  0.0062  \n",
      "Fit time          0.54    0.58    0.57    0.56    0.01    \n",
      "Test time         0.43    0.20    0.20    0.28    0.11    \n",
      "32\n",
      "Evaluating RMSE of algorithm SVD on 3 split(s).\n",
      "\n",
      "                  Fold 1  Fold 2  Fold 3  Mean    Std     \n",
      "RMSE (testset)    0.9563  0.9526  0.9485  0.9525  0.0032  \n",
      "Fit time          0.69    0.70    0.69    0.69    0.01    \n",
      "Test time         0.20    0.23    0.21    0.21    0.01    \n",
      "64\n",
      "Evaluating RMSE of algorithm SVD on 3 split(s).\n",
      "\n",
      "                  Fold 1  Fold 2  Fold 3  Mean    Std     \n",
      "RMSE (testset)    0.9541  0.9610  0.9527  0.9559  0.0036  \n",
      "Fit time          0.85    0.88    0.87    0.87    0.01    \n",
      "Test time         0.20    0.27    0.20    0.22    0.03    \n",
      "128\n",
      "Evaluating RMSE of algorithm SVD on 3 split(s).\n",
      "\n",
      "                  Fold 1  Fold 2  Fold 3  Mean    Std     \n",
      "RMSE (testset)    0.9615  0.9608  0.9640  0.9621  0.0014  \n",
      "Fit time          1.18    1.18    1.23    1.20    0.02    \n",
      "Test time         0.21    0.20    0.22    0.21    0.01    \n"
     ]
    }
   ],
   "source": [
    "#Optimizo hiperparametros\n",
    "from surprise.model_selection import cross_validate\n",
    "import numpy as np\n",
    "\n",
    "rmse_test_means = []\n",
    "factores = [1,2,4,8,16,32,64,128]\n",
    "\n",
    "for factor in factores:\n",
    "    print(factor)\n",
    "    model = SVD(n_factors=factor)\n",
    "    cv = cross_validate(model, data, measures=['RMSE'], cv = 3, verbose=True)\n",
    "    rmse_test_means.append(np.mean(cv['test_rmse']))"
   ]
  },
  {
   "cell_type": "code",
   "execution_count": 167,
   "metadata": {},
   "outputs": [],
   "source": [
    "#Creation function to extract title\n",
    "\n",
    "def title_extraction(movieId):\n",
    "    return df_p[df_p.movieId == movieId].title.iloc[0].title()"
   ]
  },
  {
   "cell_type": "code",
   "execution_count": 168,
   "metadata": {},
   "outputs": [
    {
     "data": {
      "text/plain": [
       "'A Tale Of Two Critters'"
      ]
     },
     "execution_count": 168,
     "metadata": {},
     "output_type": "execute_result"
    }
   ],
   "source": [
    "#Function test\n",
    "title_extraction(\"ds568\")"
   ]
  },
  {
   "cell_type": "code",
   "execution_count": 174,
   "metadata": {},
   "outputs": [],
   "source": [
    "#fusion process\n",
    "def title_recommendation(userId, movieId):\n",
    "    recomendado, puntaje = movie_recommendation(userId, movieId)\n",
    "    titulo_1 = title_extraction(movieId)\n",
    "    return (recomendado, puntaje,titulo_1)"
   ]
  },
  {
   "cell_type": "code",
   "execution_count": 176,
   "metadata": {},
   "outputs": [
    {
     "data": {
      "text/plain": [
       "('Recommended', 3.54167687205084, 'Life Is Ruff')"
      ]
     },
     "execution_count": 176,
     "metadata": {},
     "output_type": "execute_result"
    }
   ],
   "source": [
    "#Test\n",
    "title_recommendation(999,\"ds1017\")"
   ]
  },
  {
   "cell_type": "code",
   "execution_count": 177,
   "metadata": {},
   "outputs": [
    {
     "name": "stderr",
     "output_type": "stream",
     "text": [
      "c:\\Users\\matia\\AppData\\Local\\Programs\\Python\\Python310\\lib\\site-packages\\gradio\\inputs.py:59: UserWarning: Usage of gradio.inputs is deprecated, and will not be supported in the future, please import your component from gradio.components\n",
      "  warnings.warn(\n",
      "c:\\Users\\matia\\AppData\\Local\\Programs\\Python\\Python310\\lib\\site-packages\\gradio\\deprecation.py:40: UserWarning: `optional` parameter is deprecated, and it has no effect\n",
      "  warnings.warn(value)\n"
     ]
    },
    {
     "name": "stdout",
     "output_type": "stream",
     "text": [
      "Running on local URL:  http://127.0.0.1:7867\n",
      "Running on public URL: https://4ae44deb3082af58fa.gradio.live\n",
      "\n",
      "This share link expires in 72 hours. For free permanent hosting and GPU upgrades (NEW!), check out Spaces: https://huggingface.co/spaces\n"
     ]
    },
    {
     "data": {
      "text/html": [
       "<div><iframe src=\"https://4ae44deb3082af58fa.gradio.live\" width=\"100%\" height=\"500\" allow=\"autoplay; camera; microphone; clipboard-read; clipboard-write;\" frameborder=\"0\" allowfullscreen></iframe></div>"
      ],
      "text/plain": [
       "<IPython.core.display.HTML object>"
      ]
     },
     "metadata": {},
     "output_type": "display_data"
    },
    {
     "data": {
      "text/plain": []
     },
     "execution_count": 177,
     "metadata": {},
     "output_type": "execute_result"
    }
   ],
   "source": [
    "\n",
    "import gradio as gr\n",
    "\n",
    "title = str(\"Recommendation system\")\n",
    "\n",
    "with gr.Blocks(title=title) as demo:\n",
    "    user_number = gr.inputs.Number(label='Nickname')\n",
    "    movie = gr.Textbox(label='Number Movie')\n",
    "    recommendation = gr.Button('Search recommendations')\n",
    "    title = gr.Textbox(label='Recommendation name')\n",
    "    output = gr.Textbox(label= 'Qualification')\n",
    "    score = gr.Textbox(label='Qualification percentage')\n",
    "    recommendation.click(fn = title_recommendation, inputs=[user_number,movie], outputs=[output, score,title])\n",
    "demo.launch(share = True)"
   ]
  },
  {
   "cell_type": "code",
   "execution_count": null,
   "metadata": {},
   "outputs": [],
   "source": []
  }
 ],
 "metadata": {
  "kernelspec": {
   "display_name": "Python 3",
   "language": "python",
   "name": "python3"
  },
  "language_info": {
   "codemirror_mode": {
    "name": "ipython",
    "version": 3
   },
   "file_extension": ".py",
   "mimetype": "text/x-python",
   "name": "python",
   "nbconvert_exporter": "python",
   "pygments_lexer": "ipython3",
   "version": "3.10.8"
  },
  "orig_nbformat": 4
 },
 "nbformat": 4,
 "nbformat_minor": 2
}
