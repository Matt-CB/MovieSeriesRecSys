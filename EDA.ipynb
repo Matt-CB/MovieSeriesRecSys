{
 "cells": [
  {
   "attachments": {},
   "cell_type": "markdown",
   "metadata": {},
   "source": [
    "# __EDA__\n"
   ]
  },
  {
   "attachments": {},
   "cell_type": "markdown",
   "metadata": {},
   "source": [
    "We import the libraries and create the dataframes."
   ]
  },
  {
   "cell_type": "code",
   "execution_count": 16,
   "metadata": {},
   "outputs": [],
   "source": [
    "import pandas as pd\n",
    "import numpy as np"
   ]
  },
  {
   "cell_type": "code",
   "execution_count": 8,
   "metadata": {},
   "outputs": [],
   "source": [
    "# The 4 csv are imported for create the dataframes\n",
    "\n",
    "netflix=pd.read_csv(\"Datasets/amazon_prime_titles.csv\")\n",
    "hulu=pd.read_csv(\"Datasets/hulu_titles.csv\")\n",
    "disney_plus=pd.read_csv(\"Datasets/disney_plus_titles.csv\")\n",
    "amazon_prime=pd.read_csv(\"Datasets/amazon_prime_titles.csv\")\n",
    " "
   ]
  },
  {
   "attachments": {},
   "cell_type": "markdown",
   "metadata": {},
   "source": [
    ". Create the __id__ field in each dataframe, which is composed of the first letter of the platform name  \n",
    ". Create __platform__ field to have a better follow-up of which platform the row belongs to"
   ]
  },
  {
   "cell_type": "code",
   "execution_count": 18,
   "metadata": {},
   "outputs": [],
   "source": [
    "#'id' field \n",
    "amazon_prime.insert(0,\"id\", (\"a\"+amazon_prime[\"show_id\"]))\n",
    "\n",
    "disney_plus.insert(0,\"id\", (\"d\"+disney_plus[\"show_id\"]))\n",
    "\n",
    "hulu.insert(0,\"id\", (\"h\"+hulu[\"show_id\"]))\n",
    "\n",
    "netflix.insert(0,\"id\", (\"n\"+amazon_prime[\"show_id\"]))"
   ]
  },
  {
   "cell_type": "code",
   "execution_count": 33,
   "metadata": {},
   "outputs": [],
   "source": [
    "#'platform' field\n",
    "amazon_prime['platform']='amazonPrime'; disney_plus['platform']='disney'; netflix['platform']='netflix'; hulu['platform']='hulu'"
   ]
  },
  {
   "attachments": {},
   "cell_type": "markdown",
   "metadata": {},
   "source": [
    ".Now we concatenate all in a single dataframe using __concat()__ and reset the index."
   ]
  },
  {
   "cell_type": "code",
   "execution_count": 34,
   "metadata": {},
   "outputs": [],
   "source": [
    "DF_Proyect = pd.concat([amazon_prime, netflix, disney_plus, hulu], axis=0)"
   ]
  },
  {
   "cell_type": "code",
   "execution_count": 36,
   "metadata": {},
   "outputs": [],
   "source": [
    "DF_Proyect.reset_index(drop=True, inplace=True)"
   ]
  },
  {
   "cell_type": "code",
   "execution_count": 39,
   "metadata": {},
   "outputs": [
    {
     "data": {
      "text/html": [
       "<div>\n",
       "<style scoped>\n",
       "    .dataframe tbody tr th:only-of-type {\n",
       "        vertical-align: middle;\n",
       "    }\n",
       "\n",
       "    .dataframe tbody tr th {\n",
       "        vertical-align: top;\n",
       "    }\n",
       "\n",
       "    .dataframe thead th {\n",
       "        text-align: right;\n",
       "    }\n",
       "</style>\n",
       "<table border=\"1\" class=\"dataframe\">\n",
       "  <thead>\n",
       "    <tr style=\"text-align: right;\">\n",
       "      <th></th>\n",
       "      <th>id</th>\n",
       "      <th>show_id</th>\n",
       "      <th>type</th>\n",
       "      <th>title</th>\n",
       "      <th>director</th>\n",
       "      <th>cast</th>\n",
       "      <th>country</th>\n",
       "      <th>date_added</th>\n",
       "      <th>release_year</th>\n",
       "      <th>rating</th>\n",
       "      <th>duration</th>\n",
       "      <th>listed_in</th>\n",
       "      <th>description</th>\n",
       "      <th>platform</th>\n",
       "    </tr>\n",
       "  </thead>\n",
       "  <tbody>\n",
       "    <tr>\n",
       "      <th>12924</th>\n",
       "      <td>ns3257</td>\n",
       "      <td>s3257</td>\n",
       "      <td>Movie</td>\n",
       "      <td>Angel and the Badman</td>\n",
       "      <td>James Edward Grant</td>\n",
       "      <td>John Wayne, Gail Russell, Harry Carey</td>\n",
       "      <td>NaN</td>\n",
       "      <td>NaN</td>\n",
       "      <td>1947</td>\n",
       "      <td>7+</td>\n",
       "      <td>100 min</td>\n",
       "      <td>Action, Romance, Western</td>\n",
       "      <td>Quirt Evans, an all round bad guy, is nursed b...</td>\n",
       "      <td>netflix</td>\n",
       "    </tr>\n",
       "    <tr>\n",
       "      <th>6381</th>\n",
       "      <td>as6382</td>\n",
       "      <td>s6382</td>\n",
       "      <td>TV Show</td>\n",
       "      <td>Latin Flow (Original Spanish Audio)</td>\n",
       "      <td>NaN</td>\n",
       "      <td>NaN</td>\n",
       "      <td>NaN</td>\n",
       "      <td>NaN</td>\n",
       "      <td>2021</td>\n",
       "      <td>TV-14</td>\n",
       "      <td>1 Season</td>\n",
       "      <td>Unscripted</td>\n",
       "      <td>Latin Flow is the story of 9 Colombian women. ...</td>\n",
       "      <td>amazonPrime</td>\n",
       "    </tr>\n",
       "    <tr>\n",
       "      <th>23320</th>\n",
       "      <td>hs2535</td>\n",
       "      <td>s2535</td>\n",
       "      <td>TV Show</td>\n",
       "      <td>Hard Sun</td>\n",
       "      <td>NaN</td>\n",
       "      <td>NaN</td>\n",
       "      <td>United Kingdom</td>\n",
       "      <td>March 7, 2018</td>\n",
       "      <td>2018</td>\n",
       "      <td>TV-MA</td>\n",
       "      <td>1 Season</td>\n",
       "      <td>Crime, Drama, International</td>\n",
       "      <td>Jim Sturgess and Agyness Deyn play detectives ...</td>\n",
       "      <td>hulu</td>\n",
       "    </tr>\n",
       "    <tr>\n",
       "      <th>9313</th>\n",
       "      <td>as9314</td>\n",
       "      <td>s9314</td>\n",
       "      <td>Movie</td>\n",
       "      <td>Nambiar (Hindi)</td>\n",
       "      <td>Ganeshaa</td>\n",
       "      <td>Srikanth, Santhanam, Sunaina</td>\n",
       "      <td>NaN</td>\n",
       "      <td>NaN</td>\n",
       "      <td>2016</td>\n",
       "      <td>13+</td>\n",
       "      <td>123 min</td>\n",
       "      <td>Comedy, Drama, Science Fiction</td>\n",
       "      <td>Ramachandran, an IAS aspirant, keeps getting i...</td>\n",
       "      <td>amazonPrime</td>\n",
       "    </tr>\n",
       "    <tr>\n",
       "      <th>3835</th>\n",
       "      <td>as3836</td>\n",
       "      <td>s3836</td>\n",
       "      <td>Movie</td>\n",
       "      <td>Kevin Hart Presents: Lil Rel Howery - RELevent</td>\n",
       "      <td>Rich Schlansker, Royale Watkins</td>\n",
       "      <td>Lil Rel</td>\n",
       "      <td>NaN</td>\n",
       "      <td>NaN</td>\n",
       "      <td>2015</td>\n",
       "      <td>18+</td>\n",
       "      <td>63 min</td>\n",
       "      <td>Arts, Entertainment, and Culture, Comedy, Spec...</td>\n",
       "      <td>In Lil Rel Howery's first hour-long special, h...</td>\n",
       "      <td>amazonPrime</td>\n",
       "    </tr>\n",
       "  </tbody>\n",
       "</table>\n",
       "</div>"
      ],
      "text/plain": [
       "           id show_id     type  \\\n",
       "12924  ns3257   s3257    Movie   \n",
       "6381   as6382   s6382  TV Show   \n",
       "23320  hs2535   s2535  TV Show   \n",
       "9313   as9314   s9314    Movie   \n",
       "3835   as3836   s3836    Movie   \n",
       "\n",
       "                                                title  \\\n",
       "12924                            Angel and the Badman   \n",
       "6381              Latin Flow (Original Spanish Audio)   \n",
       "23320                                        Hard Sun   \n",
       "9313                                  Nambiar (Hindi)   \n",
       "3835   Kevin Hart Presents: Lil Rel Howery - RELevent   \n",
       "\n",
       "                              director                                   cast  \\\n",
       "12924               James Edward Grant  John Wayne, Gail Russell, Harry Carey   \n",
       "6381                               NaN                                    NaN   \n",
       "23320                              NaN                                    NaN   \n",
       "9313                          Ganeshaa           Srikanth, Santhanam, Sunaina   \n",
       "3835   Rich Schlansker, Royale Watkins                                Lil Rel   \n",
       "\n",
       "              country     date_added  release_year rating  duration  \\\n",
       "12924             NaN            NaN          1947     7+   100 min   \n",
       "6381              NaN            NaN          2021  TV-14  1 Season   \n",
       "23320  United Kingdom  March 7, 2018          2018  TV-MA  1 Season   \n",
       "9313              NaN            NaN          2016    13+   123 min   \n",
       "3835              NaN            NaN          2015    18+    63 min   \n",
       "\n",
       "                                               listed_in  \\\n",
       "12924                           Action, Romance, Western   \n",
       "6381                                          Unscripted   \n",
       "23320                        Crime, Drama, International   \n",
       "9313                      Comedy, Drama, Science Fiction   \n",
       "3835   Arts, Entertainment, and Culture, Comedy, Spec...   \n",
       "\n",
       "                                             description     platform  \n",
       "12924  Quirt Evans, an all round bad guy, is nursed b...      netflix  \n",
       "6381   Latin Flow is the story of 9 Colombian women. ...  amazonPrime  \n",
       "23320  Jim Sturgess and Agyness Deyn play detectives ...         hulu  \n",
       "9313   Ramachandran, an IAS aspirant, keeps getting i...  amazonPrime  \n",
       "3835   In Lil Rel Howery's first hour-long special, h...  amazonPrime  "
      ]
     },
     "execution_count": 39,
     "metadata": {},
     "output_type": "execute_result"
    }
   ],
   "source": [
    "DF_Proyect.sample(5)"
   ]
  },
  {
   "cell_type": "code",
   "execution_count": 41,
   "metadata": {},
   "outputs": [
    {
     "data": {
      "text/plain": [
       "id              object\n",
       "show_id         object\n",
       "type            object\n",
       "title           object\n",
       "director        object\n",
       "cast            object\n",
       "country         object\n",
       "date_added      object\n",
       "release_year     int64\n",
       "rating          object\n",
       "duration        object\n",
       "listed_in       object\n",
       "description     object\n",
       "platform        object\n",
       "dtype: object"
      ]
     },
     "execution_count": 41,
     "metadata": {},
     "output_type": "execute_result"
    }
   ],
   "source": [
    "# Columns datatypes\n",
    "DF_Proyect.dtypes"
   ]
  },
  {
   "cell_type": "code",
   "execution_count": 40,
   "metadata": {},
   "outputs": [
    {
     "name": "stdout",
     "output_type": "stream",
     "text": [
      "Dataset size:  (23859, 14)  and the duplicated data:  0\n"
     ]
    }
   ],
   "source": [
    "print(\"Dataset size: \",DF_Proyect.shape,\" and the duplicated data: \", DF_Proyect.duplicated().sum())"
   ]
  },
  {
   "cell_type": "code",
   "execution_count": 42,
   "metadata": {},
   "outputs": [
    {
     "data": {
      "text/plain": [
       "id                  0\n",
       "show_id             0\n",
       "type                0\n",
       "title               0\n",
       "release_year        0\n",
       "listed_in           0\n",
       "platform            0\n",
       "description         4\n",
       "duration          479\n",
       "rating           1197\n",
       "cast             5729\n",
       "director         7707\n",
       "date_added      19057\n",
       "country         19664\n",
       "dtype: int64"
      ]
     },
     "execution_count": 42,
     "metadata": {},
     "output_type": "execute_result"
    }
   ],
   "source": [
    "#Number of nulls in columns\n",
    "\n",
    "DF_Proyect.isnull().sum().sort_values()"
   ]
  }
 ],
 "metadata": {
  "kernelspec": {
   "display_name": "Python 3",
   "language": "python",
   "name": "python3"
  },
  "language_info": {
   "codemirror_mode": {
    "name": "ipython",
    "version": 3
   },
   "file_extension": ".py",
   "mimetype": "text/x-python",
   "name": "python",
   "nbconvert_exporter": "python",
   "pygments_lexer": "ipython3",
   "version": "3.10.8"
  },
  "orig_nbformat": 4
 },
 "nbformat": 4,
 "nbformat_minor": 2
}
